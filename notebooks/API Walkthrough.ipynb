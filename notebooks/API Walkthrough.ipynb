{
 "cells": [
  {
   "cell_type": "markdown",
   "metadata": {},
   "source": [
    "# CKAN API\n",
    "\n",
    "https://docs.ckan.org/en/2.8/api/index.html\n",
    "\n",
    "### API Tools\n",
    "\n",
    "##### Postman\n",
    "\n",
    "Postman is a sandbox for REST APIs which can generate code snippets in several languages.\n",
    "\n",
    "* Download: https://www.getpostman.com/\n",
    "* CKAN API Postman collection: https://github.com/EMN-Data/ckan-api-postman\n",
    "\n",
    "##### Python\n",
    "\n",
    "**ckanapi** CLI\n",
    "\n",
    "https://github.com/ckan/ckanapi\n",
    "\n",
    "**ckanapi** python package\n",
    "\n",
    "https://github.com/ckan/ckanapi#ckanapi-python-module\n",
    "\n",
    "manually with requests\n",
    "\n",
    "http://docs.python-requests.org/en/master/\n",
    "\n",
    "`pip install requests`"
   ]
  },
  {
   "cell_type": "code",
   "execution_count": 1,
   "metadata": {},
   "outputs": [],
   "source": [
    "import requests\n",
    "import json"
   ]
  },
  {
   "cell_type": "markdown",
   "metadata": {},
   "source": [
    "# CKAN Structure Overveiw\n",
    "\n",
    "The EMN data hubs are built on a [CKAN framework](http://docs.ckan.org/en/ckan-2.7.3/user-guide.html).\n",
    "\n",
    "The CKAN **web application** has a hierarchical layout. From top to bottom:\n",
    "\n",
    "* ##### Projects\n",
    "* ##### Datasets\n",
    "* ##### Resources\n",
    "\n",
    "The CKAN **API** has the same structure, but **datasets are _packages_**. And **project** is often synonymous with **_group_ or _organization_**.\n",
    "\n",
    "The CKAN API documentation does not explicitly include Projects, but the documentation for _groups_ and _organizations_ apply to projects. "
   ]
  },
  {
   "cell_type": "markdown",
   "metadata": {},
   "source": [
    "# API Use Cases\n",
    "\n",
    "* Get existing projects, datasets (_packages_), and resources\n",
    "* Edit dataset or resource level metadata\n",
    "* Add new resoureces to datasets\n",
    "* Add new datasets to projects"
   ]
  },
  {
   "cell_type": "markdown",
   "metadata": {},
   "source": [
    "# Building Requests\n",
    "\n",
    "Each request follows the same format\n",
    "\n",
    "`<datahub>/api/3/action/<action>`\n",
    "\n",
    "> Examples\n",
    ">\n",
    "> `https://datahub.h2awsm.org/api/3/action/project_list`\n",
    "> `https://datahub.h2awsm.org/api/3/action/resource_show`"
   ]
  },
  {
   "cell_type": "markdown",
   "metadata": {},
   "source": [
    "### Actions\n",
    "\n",
    "Actions also follow a similar format. The start the the entity and end with a verb. Entity are things like, **project**, **package**, **resource**, and **revision** (plus many others). Verbs are **list**, **show**, **create**, **update**, **patch**, and **delete**. Together you may get a **`project_list`** or a **`resource_show`**, or maybe you need to delete a dataset with **`package_delete`**.\n",
    "\n",
    "The helper below will generate a URI for an **<action\\>** that we will use in each request."
   ]
  },
  {
   "cell_type": "code",
   "execution_count": 2,
   "metadata": {},
   "outputs": [
    {
     "data": {
      "text/plain": [
       "'http://192.168.200.146:5000/api/3/action/project_list'"
      ]
     },
     "execution_count": 2,
     "metadata": {},
     "output_type": "execute_result"
    }
   ],
   "source": [
    "# emn_datahub = 'https://datahub.h2awsm.org'\n",
    "emn_datahub = 'http://192.168.200.146:5000'\n",
    "\n",
    "# Helper to build a URI for a given API action\n",
    "action = lambda a: '{}/api/3/action/{}'.format(emn_datahub, a)\n",
    "\n",
    "action('project_list')"
   ]
  },
  {
   "cell_type": "markdown",
   "metadata": {},
   "source": [
    "### Get your API token\n",
    "\n",
    "Most API calls require your API token. In general, any time you need to create or modify content, an API token is required. To read or download **public** datasets, no API token is required.\n",
    "\n",
    "1. Login to the data hub\n",
    "2. Click on your user name in the top ribbon\n",
    "3. Your API token is at the bottom of the left column"
   ]
  },
  {
   "cell_type": "code",
   "execution_count": 3,
   "metadata": {},
   "outputs": [],
   "source": [
    "# Set your API token\n",
    "api_token = '63cd53b0-2c24-4c4e-b16d-9aeee6c4da8c'"
   ]
  },
  {
   "cell_type": "markdown",
   "metadata": {},
   "source": [
    "The CKAN API is RESTful. For the most part, it uses GET and POST. An authorization header is requred for both types of requests. POST requests require an additional header to tell the API to expect JSON in the body of the request."
   ]
  },
  {
   "cell_type": "code",
   "execution_count": 4,
   "metadata": {},
   "outputs": [],
   "source": [
    "# Include these headers in GET requests\n",
    "get_headers = {\n",
    "    'authorization': api_token\n",
    "}\n",
    "\n",
    "# Include these headers in POST requests\n",
    "post_headers = {\n",
    "    'authorization': api_token,\n",
    "    'content-type': 'application/json;charset=utf-8'\n",
    "}"
   ]
  },
  {
   "cell_type": "markdown",
   "metadata": {},
   "source": [
    "# CKAN API responses\n",
    "\n",
    "Every CKAN response will be a JSON object.\n",
    "\n",
    "Example **success** response:\n",
    "\n",
    "```json\n",
    "{\n",
    "    \"success\": true,\n",
    "    \"result\": <array|object>,\n",
    "    \"help\": \"\"\n",
    "}\n",
    "```\n",
    "\n",
    "Example **error** response:\n",
    "\n",
    "```json\n",
    "{\n",
    "    \"success\": false,\n",
    "    \"error\": \"\",\n",
    "    \"help\": \"\"\n",
    "}\n",
    "```"
   ]
  },
  {
   "cell_type": "markdown",
   "metadata": {},
   "source": [
    "# Walkthrough"
   ]
  },
  {
   "cell_type": "markdown",
   "metadata": {},
   "source": [
    "## Projects\n",
    "\n",
    "Remember, projects are called _organizations_ or _groups_ in the CKAN API documentation."
   ]
  },
  {
   "cell_type": "markdown",
   "metadata": {},
   "source": [
    "### organization_list\n",
    "\n",
    "https://docs.ckan.org/en/2.8/api/index.html#ckan.logic.action.get.organization_list"
   ]
  },
  {
   "cell_type": "code",
   "execution_count": 5,
   "metadata": {},
   "outputs": [
    {
     "name": "stdout",
     "output_type": "stream",
     "text": [
      "[\n",
      "  \"api-demo\",\n",
      "  \"h2\"\n",
      "]\n"
     ]
    }
   ],
   "source": [
    "# https://datahub.h2awsm.org/api/3/action/project_list\n",
    "response = requests.get(action('organization_list'), \n",
    "                        headers=get_headers)\n",
    "\n",
    "projects = response.json()['result']\n",
    "\n",
    "print(json.dumps(projects, indent=2))"
   ]
  },
  {
   "cell_type": "markdown",
   "metadata": {},
   "source": [
    "### organization_list_for_user\n",
    "\n",
    "Alternatively use `organization_list_for_user` to get a list of projects with permission to perform a given action.\n",
    "\n",
    "https://docs.ckan.org/en/2.8/api/index.html#ckan.logic.action.get.organization_list_for_user"
   ]
  },
  {
   "cell_type": "code",
   "execution_count": 6,
   "metadata": {},
   "outputs": [
    {
     "name": "stdout",
     "output_type": "stream",
     "text": [
      "[\n",
      "  {\n",
      "    \"image_display_url\": \"\",\n",
      "    \"capacity\": \"admin\",\n",
      "    \"description\": \"API Demo organization.\",\n",
      "    \"title\": \"API Demo\",\n",
      "    \"created\": \"2021-07-20T14:27:16.067016\",\n",
      "    \"approval_status\": \"approved\",\n",
      "    \"is_organization\": true,\n",
      "    \"state\": \"active\",\n",
      "    \"image_url\": \"\",\n",
      "    \"display_name\": \"API Demo\",\n",
      "    \"revision_id\": \"9c1ffefe-52b4-4f86-8676-c5029a8defc2\",\n",
      "    \"type\": \"organization\",\n",
      "    \"id\": \"88c42410-c064-4338-b25f-2b1d2a7b0701\",\n",
      "    \"name\": \"api-demo\"\n",
      "  },\n",
      "  {\n",
      "    \"image_display_url\": \"\",\n",
      "    \"capacity\": \"admin\",\n",
      "    \"description\": \"Two protons and two electrons.\",\n",
      "    \"title\": \"H2\",\n",
      "    \"created\": \"2021-01-19T10:15:32.174722\",\n",
      "    \"approval_status\": \"approved\",\n",
      "    \"is_organization\": true,\n",
      "    \"state\": \"active\",\n",
      "    \"image_url\": \"\",\n",
      "    \"display_name\": \"H2\",\n",
      "    \"revision_id\": \"792d9bab-4289-476b-b138-ca41801cefda\",\n",
      "    \"type\": \"organization\",\n",
      "    \"id\": \"5985cb3f-b380-49f3-af51-3d00a41d9c8a\",\n",
      "    \"name\": \"h2\"\n",
      "  }\n",
      "]\n"
     ]
    }
   ],
   "source": [
    "params = {'permission': 'create_dataset'}\n",
    "\n",
    "# https://datahub.h2awsm.org/api/3/action/project_list_for_user\n",
    "response = requests.get(action('organization_list_for_user'), \n",
    "                        headers=get_headers, \n",
    "                        params=params)\n",
    "\n",
    "my_organizations = response.json()['result']\n",
    "\n",
    "print(json.dumps(my_organizations, indent=2))"
   ]
  },
  {
   "cell_type": "markdown",
   "metadata": {},
   "source": [
    "Find the id for the organization with the name \"API Demo\":"
   ]
  },
  {
   "cell_type": "code",
   "execution_count": 7,
   "metadata": {},
   "outputs": [
    {
     "name": "stdout",
     "output_type": "stream",
     "text": [
      "88c42410-c064-4338-b25f-2b1d2a7b0701\n"
     ]
    }
   ],
   "source": [
    "organization_id = [organization['id'] for organization in my_organizations if organization['title'] == 'API Demo'][0]\n",
    "print(organization_id)"
   ]
  },
  {
   "cell_type": "markdown",
   "metadata": {},
   "source": [
    "### organization_show\n",
    "\n",
    "https://docs.ckan.org/en/2.8/api/index.html#ckan.logic.action.get.organization_show"
   ]
  },
  {
   "cell_type": "code",
   "execution_count": 8,
   "metadata": {},
   "outputs": [
    {
     "name": "stdout",
     "output_type": "stream",
     "text": [
      "{\n",
      "  \"display_name\": \"API Demo\",\n",
      "  \"description\": \"API Demo organization.\",\n",
      "  \"image_display_url\": \"\",\n",
      "  \"package_count\": 0,\n",
      "  \"created\": \"2021-07-20T14:27:16.067016\",\n",
      "  \"name\": \"api-demo\",\n",
      "  \"is_organization\": true,\n",
      "  \"state\": \"active\",\n",
      "  \"extras\": [],\n",
      "  \"image_url\": \"\",\n",
      "  \"groups\": [],\n",
      "  \"type\": \"organization\",\n",
      "  \"title\": \"API Demo\",\n",
      "  \"revision_id\": \"9c1ffefe-52b4-4f86-8676-c5029a8defc2\",\n",
      "  \"packages\": [],\n",
      "  \"num_followers\": 0,\n",
      "  \"id\": \"88c42410-c064-4338-b25f-2b1d2a7b0701\",\n",
      "  \"tags\": [],\n",
      "  \"approval_status\": \"approved\"\n",
      "}\n"
     ]
    }
   ],
   "source": [
    "params = {\n",
    "    'id': organization_id,\n",
    "    'include_datasets': True,\n",
    "    'include_users': False\n",
    "}\n",
    "\n",
    "# https://datahub.h2awsm.org/api/3/action/project_show\n",
    "response = requests.get(action('organization_show'), \n",
    "                        headers=get_headers, \n",
    "                        params=params)\n",
    "\n",
    "organization = response.json()['result']\n",
    "\n",
    "print(json.dumps(organization, indent=2))"
   ]
  },
  {
   "cell_type": "markdown",
   "metadata": {},
   "source": [
    "### Datasets\n",
    "\n",
    "Historically, datasets were called \"packages\" in CKAN and the CKAN documentation and source code still refers to datasets as packages."
   ]
  },
  {
   "cell_type": "markdown",
   "metadata": {},
   "source": [
    "### package_create\n",
    "\n",
    "If you run the following code block successfully once, you will need to delete the dataset it creates if you want to run the code block again.\n",
    "\n",
    "https://docs.ckan.org/en/2.8/api/index.html#ckan.logic.action.create.package_create"
   ]
  },
  {
   "cell_type": "code",
   "execution_count": 18,
   "metadata": {},
   "outputs": [
    {
     "name": "stdout",
     "output_type": "stream",
     "text": [
      "{\"help\": \"http://192.168.200.146:5000/api/3/action/help_show?name=package_create\", \"success\": false, \"error\": {\"__type\": \"Validation Error\", \"name\": [\"That URL is already in use.\"]}}\n",
      "An error ocurred while creating the dataset. Did you try to create the dataset twice?\n"
     ]
    }
   ],
   "source": [
    "# owner_org = project id\n",
    "dataset_metadata = {\n",
    "    'name': 'api-walkthrough',\n",
    "    'owner_org': organization_id,\n",
    "    'maintainer_email': 'nick.wunder@nrel.gov',\n",
    "    'institution': 'National Renewable Energy Laboratory'\n",
    "}\n",
    "\n",
    "# https://datahub.h2awsm.org/api/3/action/package_create\n",
    "response = requests.post(action('package_create'), \n",
    "                         headers=post_headers, \n",
    "                         data=json.dumps(dataset_metadata))\n",
    "\n",
    "if 'result' in response.json():\n",
    "    new_dataset = response.json()['result']\n",
    "    print(json.dumps(new_dataset, indent=2))\n",
    "else:\n",
    "    print(json.dumps(response.json()))\n",
    "    print('An error ocurred while creating the dataset. Did you try to create the dataset twice?')"
   ]
  },
  {
   "cell_type": "markdown",
   "metadata": {},
   "source": [
    "### Resources"
   ]
  },
  {
   "cell_type": "markdown",
   "metadata": {},
   "source": [
    "### resource_create\n",
    "\n",
    "https://docs.ckan.org/en/2.8/api/index.html#ckan.logic.action.create.resource_create"
   ]
  },
  {
   "cell_type": "markdown",
   "metadata": {},
   "source": [
    "#### Single file upload\n",
    "\n",
    "Substitute the `file_name` with a path to a file on your local computer you want to make visible on the datahub."
   ]
  },
  {
   "cell_type": "code",
   "execution_count": null,
   "metadata": {},
   "outputs": [],
   "source": [
    "file_name = '/Users/nwunder2/Projects/emn/ckan-api-demo/data/charlotte_perkins_gilman_the_yellow_walpaper.txt'\n",
    "\n",
    "resource_metadata = {\n",
    "    'package_id': new_dataset['id'],\n",
    "    'name': 'charlotte_perkins_gilman_the_yellow_walpaper.txt'\n",
    "}\n",
    "\n",
    "request = requests.post(action('resource_create'),\n",
    "                        data=resource_metadata,\n",
    "                        headers=get_headers,\n",
    "                        files=[('upload', open(file_name, 'rb'))])\n",
    "\n",
    "new_resource = request.json()['result']\n",
    "\n",
    "print(json.dumps(new_resource, indent=2))"
   ]
  },
  {
   "cell_type": "markdown",
   "metadata": {},
   "source": [
    "#### Multiple file upload"
   ]
  },
  {
   "cell_type": "code",
   "execution_count": null,
   "metadata": {},
   "outputs": [],
   "source": [
    "def upload(file_name, resource_metadata):\n",
    "    print('Uploading \\n{}'.format(json.dumps(resource_metadata, indent=2)))\n",
    "    r = requests.post(action('resource_create'),\n",
    "                      data=resource_metadata,\n",
    "                      headers=get_headers,\n",
    "                      files=[('upload', open(file_name, 'rb'))])\n",
    "    print('Status: {}\\n'.format(r.status_code))\n",
    "    return r.json()"
   ]
  },
  {
   "cell_type": "code",
   "execution_count": null,
   "metadata": {},
   "outputs": [],
   "source": [
    "path = '/Users/nwunder2/Projects/emn/ckan-api-demo/data/books'\n",
    "\n",
    "from os import listdir\n",
    "file_names = [f for f in listdir(path) if not f.startswith('.')]\n",
    "print(file_names)"
   ]
  },
  {
   "cell_type": "code",
   "execution_count": null,
   "metadata": {},
   "outputs": [],
   "source": [
    "resources_metadata = []\n",
    "\n",
    "for file_name in file_names:\n",
    "    resource_metadata = {\n",
    "        'package_id': new_dataset['id'],\n",
    "        'name': file_name,\n",
    "        'data_tool': 'multi-spectra'\n",
    "    }\n",
    "    resources_metadata.append(resource_metadata)\n",
    "\n",
    "new_resources = []\n",
    "\n",
    "for resource_metadata in resources_metadata:\n",
    "    new_resource_obj = upload('{}/{}'.format(path, resource_metadata['name']), \n",
    "                          resource_metadata=resource_metadata) \n",
    "    new_resources.append(new_resource_obj)"
   ]
  },
  {
   "cell_type": "markdown",
   "metadata": {},
   "source": [
    "### resource_patch\n",
    "\n",
    "https://docs.ckan.org/en/2.8/api/index.html#ckan.logic.action.patch.resource_patch"
   ]
  },
  {
   "cell_type": "markdown",
   "metadata": {},
   "source": [
    "# <font color=\"red\">CAUTION!</font> patch versus update\n",
    "\n",
    "There are two ways to update existing content, **update** and **patch**. \n",
    "\n",
    "Update and patch are two ways to update existing content. You should nearly always use **patch** because it will only change the attributes you specify and preserve the values you do not specifically change. Update is destructive and will change the values you specify and delete the values you do not specify. The destructive nature of update makes patch the safer option."
   ]
  },
  {
   "cell_type": "code",
   "execution_count": null,
   "metadata": {},
   "outputs": [],
   "source": [
    "resource_metadata = {\n",
    "    'id': new_resource['id'],\n",
    "    'description': '## The Yellow Walpaper\\n### by Charlotte Perkins Gilman\\n_A splendid short story._'\n",
    "}\n",
    "\n",
    "request = requests.post(action('resource_patch'),\n",
    "                        data=json.dumps(resource_metadata),\n",
    "                        headers=post_headers)\n",
    "\n",
    "modified_resource = request.json()['result']\n",
    "\n",
    "print(json.dumps(modified_resource, indent=2))"
   ]
  }
 ],
 "metadata": {
  "kernelspec": {
   "display_name": "Python 3",
   "language": "python",
   "name": "python3"
  },
  "language_info": {
   "codemirror_mode": {
    "name": "ipython",
    "version": 3
   },
   "file_extension": ".py",
   "mimetype": "text/x-python",
   "name": "python",
   "nbconvert_exporter": "python",
   "pygments_lexer": "ipython3",
   "version": "3.7.4"
  }
 },
 "nbformat": 4,
 "nbformat_minor": 4
}
